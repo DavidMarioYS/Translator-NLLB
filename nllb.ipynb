{
 "cells": [
  {
   "cell_type": "markdown",
   "id": "f6024778-6c72-4ccc-9f1b-24c190eebd91",
   "metadata": {},
   "source": [
    "# 1. Install Dependencies\n",
    "- Pytorch [package](https://pytorch.org/)"
   ]
  },
  {
   "cell_type": "code",
   "execution_count": 1,
   "id": "72f8397b-e232-407a-b813-d7b076bfaedc",
   "metadata": {
    "scrolled": true
   },
   "outputs": [
    {
     "name": "stdout",
     "output_type": "stream",
     "text": [
      "Defaulting to user installation because normal site-packages is not writeable\n",
      "Requirement already satisfied: torch in c:\\users\\admin\\appdata\\roaming\\python\\python311\\site-packages (2.6.0)\n",
      "Requirement already satisfied: filelock in c:\\users\\admin\\appdata\\roaming\\python\\python311\\site-packages (from torch) (3.18.0)\n",
      "Requirement already satisfied: typing-extensions>=4.10.0 in c:\\program files\\python311\\lib\\site-packages (from torch) (4.12.2)\n",
      "Requirement already satisfied: networkx in c:\\users\\admin\\appdata\\roaming\\python\\python311\\site-packages (from torch) (3.4.2)\n",
      "Requirement already satisfied: jinja2 in c:\\users\\admin\\appdata\\roaming\\python\\python311\\site-packages (from torch) (3.1.4)\n",
      "Requirement already satisfied: fsspec in c:\\users\\admin\\appdata\\roaming\\python\\python311\\site-packages (from torch) (2025.3.1)\n",
      "Requirement already satisfied: sympy==1.13.1 in c:\\users\\admin\\appdata\\roaming\\python\\python311\\site-packages (from torch) (1.13.1)\n",
      "Requirement already satisfied: mpmath<1.4,>=1.1.0 in c:\\users\\admin\\appdata\\roaming\\python\\python311\\site-packages (from sympy==1.13.1->torch) (1.3.0)\n",
      "Requirement already satisfied: MarkupSafe>=2.0 in c:\\program files\\python311\\lib\\site-packages (from jinja2->torch) (3.0.2)\n"
     ]
    },
    {
     "name": "stderr",
     "output_type": "stream",
     "text": [
      "\n",
      "[notice] A new release of pip is available: 24.3.1 -> 25.1.1\n",
      "[notice] To update, run: python.exe -m pip install --upgrade pip\n"
     ]
    }
   ],
   "source": [
    "!pip3 install torch"
   ]
  },
  {
   "cell_type": "code",
   "execution_count": 2,
   "id": "e6a8cb29-5518-4b8a-9dfb-0b5166b52e13",
   "metadata": {},
   "outputs": [
    {
     "name": "stdout",
     "output_type": "stream",
     "text": [
      "Torch version:  2.6.0+cpu\n"
     ]
    }
   ],
   "source": [
    "import torch\n",
    "\n",
    "# Print versions\n",
    "print(\"Torch version: \", torch.__version__)"
   ]
  },
  {
   "cell_type": "code",
   "execution_count": 3,
   "id": "f0b9906d-def2-44f2-9042-3c88a8fc243d",
   "metadata": {
    "scrolled": true
   },
   "outputs": [
    {
     "name": "stdout",
     "output_type": "stream",
     "text": [
      "Defaulting to user installation because normal site-packages is not writeable\n",
      "Requirement already satisfied: gradio in c:\\users\\admin\\appdata\\roaming\\python\\python311\\site-packages (5.29.0)\n",
      "Requirement already satisfied: transformers in c:\\users\\admin\\appdata\\roaming\\python\\python311\\site-packages (4.51.3)\n",
      "Requirement already satisfied: sentencepiece in c:\\users\\admin\\appdata\\roaming\\python\\python311\\site-packages (0.2.0)\n",
      "Requirement already satisfied: sacremoses in c:\\users\\admin\\appdata\\roaming\\python\\python311\\site-packages (0.1.1)\n",
      "Requirement already satisfied: pykakasi in c:\\users\\admin\\appdata\\roaming\\python\\python311\\site-packages (2.3.0)\n",
      "Requirement already satisfied: pypinyin in c:\\users\\admin\\appdata\\roaming\\python\\python311\\site-packages (0.54.0)\n",
      "Requirement already satisfied: korean-romanizer in c:\\users\\admin\\appdata\\roaming\\python\\python311\\site-packages (0.25.1)\n",
      "Requirement already satisfied: pythainlp in c:\\users\\admin\\appdata\\roaming\\python\\python311\\site-packages (5.1.2)\n",
      "Requirement already satisfied: aiofiles<25.0,>=22.0 in c:\\users\\admin\\appdata\\roaming\\python\\python311\\site-packages (from gradio) (24.1.0)\n",
      "Requirement already satisfied: anyio<5.0,>=3.0 in c:\\program files\\python311\\lib\\site-packages (from gradio) (4.8.0)\n",
      "Requirement already satisfied: fastapi<1.0,>=0.115.2 in c:\\users\\admin\\appdata\\roaming\\python\\python311\\site-packages (from gradio) (0.115.12)\n",
      "Requirement already satisfied: ffmpy in c:\\users\\admin\\appdata\\roaming\\python\\python311\\site-packages (from gradio) (0.5.0)\n",
      "Requirement already satisfied: gradio-client==1.10.0 in c:\\users\\admin\\appdata\\roaming\\python\\python311\\site-packages (from gradio) (1.10.0)\n",
      "Requirement already satisfied: groovy~=0.1 in c:\\users\\admin\\appdata\\roaming\\python\\python311\\site-packages (from gradio) (0.1.2)\n",
      "Requirement already satisfied: httpx>=0.24.1 in c:\\program files\\python311\\lib\\site-packages (from gradio) (0.28.1)\n",
      "Requirement already satisfied: huggingface-hub>=0.28.1 in c:\\users\\admin\\appdata\\roaming\\python\\python311\\site-packages (from gradio) (0.31.1)\n",
      "Requirement already satisfied: jinja2<4.0 in c:\\users\\admin\\appdata\\roaming\\python\\python311\\site-packages (from gradio) (3.1.4)\n",
      "Requirement already satisfied: markupsafe<4.0,>=2.0 in c:\\program files\\python311\\lib\\site-packages (from gradio) (3.0.2)\n",
      "Requirement already satisfied: numpy<3.0,>=1.0 in c:\\users\\admin\\appdata\\roaming\\python\\python311\\site-packages (from gradio) (2.0.2)\n",
      "Requirement already satisfied: orjson~=3.0 in c:\\users\\admin\\appdata\\roaming\\python\\python311\\site-packages (from gradio) (3.10.18)\n",
      "Requirement already satisfied: packaging in c:\\program files\\python311\\lib\\site-packages (from gradio) (24.2)\n",
      "Requirement already satisfied: pandas<3.0,>=1.0 in c:\\program files\\python311\\lib\\site-packages (from gradio) (2.2.3)\n",
      "Requirement already satisfied: pillow<12.0,>=8.0 in c:\\users\\admin\\appdata\\roaming\\python\\python311\\site-packages (from gradio) (11.0.0)\n",
      "Requirement already satisfied: pydantic<2.12,>=2.0 in c:\\users\\admin\\appdata\\roaming\\python\\python311\\site-packages (from gradio) (2.11.4)\n",
      "Requirement already satisfied: pydub in c:\\users\\admin\\appdata\\roaming\\python\\python311\\site-packages (from gradio) (0.25.1)\n",
      "Requirement already satisfied: python-multipart>=0.0.18 in c:\\users\\admin\\appdata\\roaming\\python\\python311\\site-packages (from gradio) (0.0.20)\n",
      "Requirement already satisfied: pyyaml<7.0,>=5.0 in c:\\program files\\python311\\lib\\site-packages (from gradio) (6.0.2)\n",
      "Requirement already satisfied: ruff>=0.9.3 in c:\\users\\admin\\appdata\\roaming\\python\\python311\\site-packages (from gradio) (0.11.9)\n",
      "Requirement already satisfied: safehttpx<0.2.0,>=0.1.6 in c:\\users\\admin\\appdata\\roaming\\python\\python311\\site-packages (from gradio) (0.1.6)\n",
      "Requirement already satisfied: semantic-version~=2.0 in c:\\users\\admin\\appdata\\roaming\\python\\python311\\site-packages (from gradio) (2.10.0)\n",
      "Requirement already satisfied: starlette<1.0,>=0.40.0 in c:\\users\\admin\\appdata\\roaming\\python\\python311\\site-packages (from gradio) (0.46.2)\n",
      "Requirement already satisfied: tomlkit<0.14.0,>=0.12.0 in c:\\users\\admin\\appdata\\roaming\\python\\python311\\site-packages (from gradio) (0.13.2)\n",
      "Requirement already satisfied: typer<1.0,>=0.12 in c:\\users\\admin\\appdata\\roaming\\python\\python311\\site-packages (from gradio) (0.15.3)\n",
      "Requirement already satisfied: typing-extensions~=4.0 in c:\\program files\\python311\\lib\\site-packages (from gradio) (4.12.2)\n",
      "Requirement already satisfied: uvicorn>=0.14.0 in c:\\users\\admin\\appdata\\roaming\\python\\python311\\site-packages (from gradio) (0.34.2)\n",
      "Requirement already satisfied: fsspec in c:\\users\\admin\\appdata\\roaming\\python\\python311\\site-packages (from gradio-client==1.10.0->gradio) (2025.3.1)\n",
      "Requirement already satisfied: websockets<16.0,>=10.0 in c:\\users\\admin\\appdata\\roaming\\python\\python311\\site-packages (from gradio-client==1.10.0->gradio) (15.0.1)\n",
      "Requirement already satisfied: filelock in c:\\users\\admin\\appdata\\roaming\\python\\python311\\site-packages (from transformers) (3.18.0)\n",
      "Requirement already satisfied: regex!=2019.12.17 in c:\\users\\admin\\appdata\\roaming\\python\\python311\\site-packages (from transformers) (2024.11.6)\n",
      "Requirement already satisfied: requests in c:\\program files\\python311\\lib\\site-packages (from transformers) (2.32.3)\n",
      "Requirement already satisfied: tokenizers<0.22,>=0.21 in c:\\users\\admin\\appdata\\roaming\\python\\python311\\site-packages (from transformers) (0.21.1)\n",
      "Requirement already satisfied: safetensors>=0.4.3 in c:\\users\\admin\\appdata\\roaming\\python\\python311\\site-packages (from transformers) (0.5.3)\n",
      "Requirement already satisfied: tqdm>=4.27 in c:\\users\\admin\\appdata\\roaming\\python\\python311\\site-packages (from transformers) (4.67.1)\n",
      "Requirement already satisfied: click in c:\\users\\admin\\appdata\\roaming\\python\\python311\\site-packages (from sacremoses) (8.1.7)\n",
      "Requirement already satisfied: joblib in c:\\users\\admin\\appdata\\roaming\\python\\python311\\site-packages (from sacremoses) (1.4.2)\n",
      "Requirement already satisfied: jaconv in c:\\users\\admin\\appdata\\roaming\\python\\python311\\site-packages (from pykakasi) (0.4.0)\n",
      "Requirement already satisfied: deprecated in c:\\users\\admin\\appdata\\roaming\\python\\python311\\site-packages (from pykakasi) (1.2.18)\n",
      "Requirement already satisfied: tzdata in c:\\program files\\python311\\lib\\site-packages (from pythainlp) (2024.2)\n",
      "Requirement already satisfied: idna>=2.8 in c:\\program files\\python311\\lib\\site-packages (from anyio<5.0,>=3.0->gradio) (3.10)\n",
      "Requirement already satisfied: sniffio>=1.1 in c:\\program files\\python311\\lib\\site-packages (from anyio<5.0,>=3.0->gradio) (1.3.1)\n",
      "Requirement already satisfied: certifi in c:\\users\\admin\\appdata\\roaming\\python\\python311\\site-packages (from httpx>=0.24.1->gradio) (2024.8.30)\n",
      "Requirement already satisfied: httpcore==1.* in c:\\program files\\python311\\lib\\site-packages (from httpx>=0.24.1->gradio) (1.0.7)\n",
      "Requirement already satisfied: h11<0.15,>=0.13 in c:\\program files\\python311\\lib\\site-packages (from httpcore==1.*->httpx>=0.24.1->gradio) (0.14.0)\n",
      "Requirement already satisfied: python-dateutil>=2.8.2 in c:\\program files\\python311\\lib\\site-packages (from pandas<3.0,>=1.0->gradio) (2.9.0.post0)\n",
      "Requirement already satisfied: pytz>=2020.1 in c:\\program files\\python311\\lib\\site-packages (from pandas<3.0,>=1.0->gradio) (2024.2)\n",
      "Requirement already satisfied: annotated-types>=0.6.0 in c:\\users\\admin\\appdata\\roaming\\python\\python311\\site-packages (from pydantic<2.12,>=2.0->gradio) (0.7.0)\n",
      "Requirement already satisfied: pydantic-core==2.33.2 in c:\\users\\admin\\appdata\\roaming\\python\\python311\\site-packages (from pydantic<2.12,>=2.0->gradio) (2.33.2)\n",
      "Requirement already satisfied: typing-inspection>=0.4.0 in c:\\users\\admin\\appdata\\roaming\\python\\python311\\site-packages (from pydantic<2.12,>=2.0->gradio) (0.4.0)\n",
      "Requirement already satisfied: charset-normalizer<4,>=2 in c:\\users\\admin\\appdata\\roaming\\python\\python311\\site-packages (from requests->transformers) (3.4.0)\n",
      "Requirement already satisfied: urllib3<3,>=1.21.1 in c:\\users\\admin\\appdata\\roaming\\python\\python311\\site-packages (from requests->transformers) (2.2.3)\n",
      "Requirement already satisfied: colorama in c:\\program files\\python311\\lib\\site-packages (from tqdm>=4.27->transformers) (0.4.6)\n",
      "Requirement already satisfied: shellingham>=1.3.0 in c:\\users\\admin\\appdata\\roaming\\python\\python311\\site-packages (from typer<1.0,>=0.12->gradio) (1.5.4)\n",
      "Requirement already satisfied: rich>=10.11.0 in c:\\program files\\python311\\lib\\site-packages (from typer<1.0,>=0.12->gradio) (13.9.4)\n",
      "Requirement already satisfied: wrapt<2,>=1.10 in c:\\users\\admin\\appdata\\roaming\\python\\python311\\site-packages (from deprecated->pykakasi) (1.17.0)\n",
      "Requirement already satisfied: six>=1.5 in c:\\users\\admin\\appdata\\roaming\\python\\python311\\site-packages (from python-dateutil>=2.8.2->pandas<3.0,>=1.0->gradio) (1.16.0)\n",
      "Requirement already satisfied: markdown-it-py>=2.2.0 in c:\\program files\\python311\\lib\\site-packages (from rich>=10.11.0->typer<1.0,>=0.12->gradio) (3.0.0)\n",
      "Requirement already satisfied: pygments<3.0.0,>=2.13.0 in c:\\users\\admin\\appdata\\roaming\\python\\python311\\site-packages (from rich>=10.11.0->typer<1.0,>=0.12->gradio) (2.18.0)\n",
      "Requirement already satisfied: mdurl~=0.1 in c:\\program files\\python311\\lib\\site-packages (from markdown-it-py>=2.2.0->rich>=10.11.0->typer<1.0,>=0.12->gradio) (0.1.2)\n"
     ]
    },
    {
     "name": "stderr",
     "output_type": "stream",
     "text": [
      "\n",
      "[notice] A new release of pip is available: 24.3.1 -> 25.1.1\n",
      "[notice] To update, run: python.exe -m pip install --upgrade pip\n"
     ]
    }
   ],
   "source": [
    "!pip install gradio transformers sentencepiece sacremoses pykakasi pypinyin korean-romanizer pythainlp --upgrade"
   ]
  },
  {
   "cell_type": "code",
   "execution_count": 4,
   "id": "25af3cae-a84d-4d33-8527-f8f79e968e3c",
   "metadata": {},
   "outputs": [
    {
     "name": "stdout",
     "output_type": "stream",
     "text": [
      "Gradio version:  5.29.0\n",
      "Sentencepiece version:  0.2.0\n",
      "Sacremoses version:  0.1.1\n"
     ]
    }
   ],
   "source": [
    "import gradio as gr\n",
    "import sentencepiece\n",
    "import sacremoses\n",
    "from transformers import AutoModelForSeq2SeqLM, AutoTokenizer\n",
    "import pykakasi  # Jepang\n",
    "from korean_romanizer.romanizer import Romanizer  # Untuk romanisasi Korea\n",
    "from pypinyin import pinyin, Style  # Cina\n",
    "from pythainlp.transliterate import romanize as thai_romanize  # Untuk romanisasi Thai\n",
    "\n",
    "print(\"Gradio version: \", gr.__version__) \n",
    "print(\"Sentencepiece version: \", sentencepiece.__version__)\n",
    "print(\"Sacremoses version: \", sacremoses.__version__)"
   ]
  },
  {
   "cell_type": "markdown",
   "id": "4c713fa3-6366-4029-90c4-fc8e323945a4",
   "metadata": {},
   "source": [
    "# 2. Inisiasi Model Penerjemah"
   ]
  },
  {
   "cell_type": "code",
   "execution_count": 5,
   "id": "24bdf6a1-c506-4371-a071-a1827a548967",
   "metadata": {},
   "outputs": [],
   "source": [
    "# Load NLLB-200 model\n",
    "tokenizer = AutoTokenizer.from_pretrained(\"facebook/nllb-200-distilled-600M\")\n",
    "model = AutoModelForSeq2SeqLM.from_pretrained(\"facebook/nllb-200-distilled-600M\")\n",
    "\n",
    "# Mapping kode bahasa NLLB\n",
    "target_lang_map = {\n",
    "    \"English\": \"eng_Latn\",\n",
    "    \"Japanese\": \"jpn_Jpan\",\n",
    "    \"Korean\": \"kor_Hang\",\n",
    "    \"Chinese\": \"zho_Hans\",\n",
    "    \"Thai\": \"tha_Thai\"\n",
    "}\n",
    "\n",
    "# Romanisasi\n",
    "def romanize(text, language):\n",
    "    if language == \"Japanese\":\n",
    "        kakasi = pykakasi.kakasi()\n",
    "        result = kakasi.convert(text)\n",
    "        return ' '.join([item['hepburn'] for item in result])\n",
    "    elif language == \"Korean\":\n",
    "        try:\n",
    "            r = Romanizer(text)\n",
    "            return r.romanize()\n",
    "        except:\n",
    "            return \"[Romanization failed]\"\n",
    "    elif language == \"Chinese\":\n",
    "        return ' '.join([item[0] for item in pinyin(text, style=Style.NORMAL)])\n",
    "    elif language == \"Thai\":\n",
    "        return thai_romanize(text)\n",
    "    else:\n",
    "        return text  # Latin-based, tidak perlu romanisasi\n",
    "\n",
    "# Tranlasi + Romanisasi\n",
    "def translate_indonesian_to_target(text, target_lang):\n",
    "    # Set source language to Indonesian\n",
    "    tokenizer.src_lang = \"ind_Latn\"\n",
    "    encoded = tokenizer(text, return_tensors=\"pt\")\n",
    "\n",
    "    # Generate translation\n",
    "    generated_tokens = model.generate(\n",
    "        **encoded,\n",
    "        forced_bos_token_id=tokenizer.convert_tokens_to_ids(target_lang_map[target_lang])\n",
    "    )\n",
    "    translated = tokenizer.batch_decode(generated_tokens, skip_special_tokens=True)[0]\n",
    "\n",
    "    # Romanisasi jika perlu\n",
    "    romanized = romanize(translated, target_lang)\n",
    "\n",
    "    return translated, romanized\n"
   ]
  },
  {
   "cell_type": "markdown",
   "id": "531aae5b-2185-46b1-9d6e-7d41f75adde6",
   "metadata": {},
   "source": [
    "# 3 Gradio Interface"
   ]
  },
  {
   "cell_type": "code",
   "execution_count": 6,
   "id": "d2a823d1-d372-432e-b068-db04e3c83cdc",
   "metadata": {},
   "outputs": [
    {
     "name": "stdout",
     "output_type": "stream",
     "text": [
      "* Running on local URL:  http://127.0.0.1:7861\n",
      "* To create a public link, set `share=True` in `launch()`.\n"
     ]
    },
    {
     "data": {
      "text/html": [
       "<div><iframe src=\"http://127.0.0.1:7861/\" width=\"100%\" height=\"500\" allow=\"autoplay; camera; microphone; clipboard-read; clipboard-write;\" frameborder=\"0\" allowfullscreen></iframe></div>"
      ],
      "text/plain": [
       "<IPython.core.display.HTML object>"
      ]
     },
     "metadata": {},
     "output_type": "display_data"
    },
    {
     "data": {
      "text/plain": []
     },
     "execution_count": 6,
     "metadata": {},
     "output_type": "execute_result"
    }
   ],
   "source": [
    "languages = [\"English\", \"Japanese\", \"Korean\", \"Chinese\", \"Thai\"]\n",
    "\n",
    "gr.Interface(\n",
    "    fn=translate_indonesian_to_target,\n",
    "    inputs=[\n",
    "        gr.Textbox(label=\"Input (Bahasa Indonesia)\"),\n",
    "        gr.Dropdown(choices=languages, label=\"Target Language\")\n",
    "    ],\n",
    "    outputs=[\n",
    "        gr.Textbox(label=\"Translated Text\"),\n",
    "        gr.Textbox(label=\"Romanized Pronunciation\")\n",
    "    ],\n",
    "    title=\"Multilingual Translator with NLLB-200\",\n",
    "    description=\"Terjemahan dari Bahasa Indonesia ke berbagai bahasa dunia dengan romanisasi untuk karakter non-Latin.\"\n",
    ").launch()"
   ]
  },
  {
   "cell_type": "code",
   "execution_count": null,
   "id": "c763c29f-f870-44bd-9c33-2e74622dea97",
   "metadata": {},
   "outputs": [],
   "source": []
  }
 ],
 "metadata": {
  "kernelspec": {
   "display_name": "Python 3 (ipykernel)",
   "language": "python",
   "name": "python3"
  },
  "language_info": {
   "codemirror_mode": {
    "name": "ipython",
    "version": 3
   },
   "file_extension": ".py",
   "mimetype": "text/x-python",
   "name": "python",
   "nbconvert_exporter": "python",
   "pygments_lexer": "ipython3",
   "version": "3.11.0"
  }
 },
 "nbformat": 4,
 "nbformat_minor": 5
}
